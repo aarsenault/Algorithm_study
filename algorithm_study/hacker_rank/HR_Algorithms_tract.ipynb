{
 "cells": [
  {
   "cell_type": "markdown",
   "metadata": {},
   "source": [
    "## Bubble sort\n"
   ]
  },
  {
   "cell_type": "code",
   "execution_count": null,
   "metadata": {
    "collapsed": true
   },
   "outputs": [],
   "source": [
    "n = int(input().strip())\n",
    "a = list(map(int, input().strip().split(' ')))\n",
    "\n",
    "total_swaps = 0\n",
    "\n",
    "for i in range(n):\n",
    "    num_swaps = 0 \n",
    "    \n",
    "    for j in range(n-1):\n",
    "    \n",
    "        if a[j] > a[j+1]:\n",
    "            a[j], a[j+1] = a[j+1], a[j]\n",
    "            num_swaps += 1 \n",
    "    total_swaps += num_swaps\n",
    "    \n",
    "    if num_swaps == 0:\n",
    "        break\n",
    "        \n",
    "print( 'Array is sorted in {} swaps.'.format(total_swaps))\n",
    "print( 'First Element: {}'.format(a[0]) )\n",
    "print('Last Element: {}'.format(a[n-1]) )\n",
    "    \n",
    "    \n"
   ]
  }
 ],
 "metadata": {
  "kernelspec": {
   "display_name": "Python 3",
   "language": "python",
   "name": "python3"
  },
  "language_info": {
   "codemirror_mode": {
    "name": "ipython",
    "version": 3
   },
   "file_extension": ".py",
   "mimetype": "text/x-python",
   "name": "python",
   "nbconvert_exporter": "python",
   "pygments_lexer": "ipython3",
   "version": "3.6.0"
  }
 },
 "nbformat": 4,
 "nbformat_minor": 2
}
