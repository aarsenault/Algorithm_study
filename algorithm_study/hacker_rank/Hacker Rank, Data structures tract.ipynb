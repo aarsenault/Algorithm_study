{
 "cells": [
  {
   "cell_type": "markdown",
   "metadata": {
    "deletable": true,
    "editable": true
   },
   "source": [
    "# Hacker Rank : Data Structures Track"
   ]
  },
  {
   "cell_type": "markdown",
   "metadata": {
    "deletable": true,
    "editable": true
   },
   "source": [
    "## Arrays-DS\n",
    "Given an array of  integers, print each element in reverse order as a single line of space-separated integers."
   ]
  },
  {
   "cell_type": "code",
   "execution_count": 9,
   "metadata": {
    "collapsed": true,
    "deletable": true,
    "editable": true
   },
   "outputs": [],
   "source": [
    "# Solution: \n",
    "\n",
    "# test data:\n",
    "\n",
    "arr = [1,4,3,2]"
   ]
  },
  {
   "cell_type": "code",
   "execution_count": 36,
   "metadata": {
    "collapsed": true,
    "deletable": true,
    "editable": true
   },
   "outputs": [],
   "source": [
    "def arr_reverser(arr):\n",
    "    n = len(arr)\n",
    "    for i in range(n):\n",
    "        print(arr[n-1-i],\" \", end=\"\")"
   ]
  },
  {
   "cell_type": "markdown",
   "metadata": {
    "deletable": true,
    "editable": true
   },
   "source": [
    "notes: measuring range(5) will give a list 5 elements long. i.e 0-4"
   ]
  },
  {
   "cell_type": "code",
   "execution_count": 37,
   "metadata": {
    "collapsed": false,
    "deletable": true,
    "editable": true
   },
   "outputs": [
    {
     "name": "stdout",
     "output_type": "stream",
     "text": [
      "2  3  4  1  "
     ]
    }
   ],
   "source": [
    "arr_reverser(arr)"
   ]
  },
  {
   "cell_type": "markdown",
   "metadata": {
    "collapsed": true,
    "deletable": true,
    "editable": true
   },
   "source": [
    "## 2D Array - DS\n",
    "Task: https://www.hackerrank.com/challenges/2d-array\n",
    "\n",
    "\n",
    "Calculate the hourglass sum for every hourglass in A, then print the maximum hourglass sum.\n",
    "\n"
   ]
  },
  {
   "cell_type": "code",
   "execution_count": 17,
   "metadata": {
    "collapsed": true
   },
   "outputs": [],
   "source": [
    "# input \n",
    "arr = [\n",
    "[1, 1, 1, 0, 0, 0],\n",
    "[0, 1, 0, 0, 0, 0],\n",
    "[1, 1, 1, 0, 0, 0],\n",
    "[0, 0, 2, 4, 4, 0],\n",
    "[0, 0, 0, 2, 0, 0],\n",
    "[0, 0, 1, 2, 4, 0]\n",
    "]\n"
   ]
  },
  {
   "cell_type": "code",
   "execution_count": 28,
   "metadata": {
    "collapsed": false
   },
   "outputs": [],
   "source": [
    "\n",
    "arr2 = [\n",
    "[0, -4, -6, 0, -7, -6],\n",
    "[-1, -2, -6, -8, -3, -1],\n",
    "[-8, -4, -2, -8, -8, -6],\n",
    "[-3, -1, -2, -5, -7, -4],\n",
    "[-3, -5, -3, -6, -6, -6],\n",
    "[-3, -6, 0, -8, -6, -7]\n",
    "]"
   ]
  },
  {
   "cell_type": "code",
   "execution_count": 24,
   "metadata": {
    "collapsed": false
   },
   "outputs": [
    {
     "data": {
      "text/plain": [
       "[0, 1, 2, 3]"
      ]
     },
     "execution_count": 24,
     "metadata": {},
     "output_type": "execute_result"
    }
   ],
   "source": [
    "[i for i in range(len(arr) -2)]\n",
    "# len(arr[1])\n",
    "# j=0\n",
    "# i=0\n",
    "# arr[i][(j+4)]\n"
   ]
  },
  {
   "cell_type": "code",
   "execution_count": 33,
   "metadata": {
    "collapsed": false
   },
   "outputs": [],
   "source": [
    "def largest_hourglass(arr):\n",
    "    \n",
    "    # can assume n by n matrix\n",
    "    n = len(arr)\n",
    "    \n",
    "    max_so_far = None\n",
    "    \n",
    "    if n < 3:\n",
    "        return None \n",
    "    \n",
    "    # subtract 2 for bottom of hourglass\n",
    "    for i in range(n - 2):\n",
    "        for j in range(n - 2):\n",
    "            # +3 because slicing doesn't include endpoint \n",
    "            sums = sum(arr[i][j:(j+3)]) + arr[i+1][j+1] + sum(arr[i+2][j:(j+3)])\n",
    "            \n",
    "            # compare against max sum\n",
    "            if max_so_far is None:\n",
    "                max_so_far = sums\n",
    "                \n",
    "            else:    \n",
    "                max_so_far = max(sums, max_so_far)\n",
    "            \n",
    "    return max_so_far\n",
    "    \n"
   ]
  },
  {
   "cell_type": "code",
   "execution_count": 32,
   "metadata": {
    "collapsed": false
   },
   "outputs": [
    {
     "ename": "TypeError",
     "evalue": "'>' not supported between instances of 'NoneType' and 'int'",
     "output_type": "error",
     "traceback": [
      "\u001b[0;31m---------------------------------------------------------------------------\u001b[0m",
      "\u001b[0;31mTypeError\u001b[0m                                 Traceback (most recent call last)",
      "\u001b[0;32m<ipython-input-32-d29c0e7f473b>\u001b[0m in \u001b[0;36m<module>\u001b[0;34m()\u001b[0m\n\u001b[0;32m----> 1\u001b[0;31m \u001b[0mlargest_hourglass\u001b[0m\u001b[0;34m(\u001b[0m\u001b[0marr\u001b[0m\u001b[0;34m)\u001b[0m\u001b[0;34m\u001b[0m\u001b[0m\n\u001b[0m",
      "\u001b[0;32m<ipython-input-31-24e8e34510a8>\u001b[0m in \u001b[0;36mlargest_hourglass\u001b[0;34m(arr)\u001b[0m\n\u001b[1;32m     16\u001b[0m \u001b[0;34m\u001b[0m\u001b[0m\n\u001b[1;32m     17\u001b[0m             \u001b[0;31m# compare against max sum\u001b[0m\u001b[0;34m\u001b[0m\u001b[0;34m\u001b[0m\u001b[0m\n\u001b[0;32m---> 18\u001b[0;31m             \u001b[0mmax_so_far\u001b[0m \u001b[0;34m=\u001b[0m \u001b[0mmax\u001b[0m\u001b[0;34m(\u001b[0m\u001b[0msums\u001b[0m\u001b[0;34m,\u001b[0m \u001b[0mmax_so_far\u001b[0m\u001b[0;34m)\u001b[0m\u001b[0;34m\u001b[0m\u001b[0m\n\u001b[0m\u001b[1;32m     19\u001b[0m \u001b[0;34m\u001b[0m\u001b[0m\n\u001b[1;32m     20\u001b[0m     \u001b[0;32mreturn\u001b[0m \u001b[0mmax_so_far\u001b[0m\u001b[0;34m\u001b[0m\u001b[0m\n",
      "\u001b[0;31mTypeError\u001b[0m: '>' not supported between instances of 'NoneType' and 'int'"
     ]
    }
   ],
   "source": [
    "largest_hourglass(arr)"
   ]
  },
  {
   "cell_type": "code",
   "execution_count": 30,
   "metadata": {
    "collapsed": false
   },
   "outputs": [
    {
     "data": {
      "text/plain": [
       "0"
      ]
     },
     "execution_count": 30,
     "metadata": {},
     "output_type": "execute_result"
    }
   ],
   "source": [
    "largest_hourglass(arr2)"
   ]
  },
  {
   "cell_type": "code",
   "execution_count": null,
   "metadata": {
    "collapsed": true
   },
   "outputs": [],
   "source": []
  }
 ],
 "metadata": {
  "kernelspec": {
   "display_name": "Python 3",
   "language": "python",
   "name": "python3"
  },
  "language_info": {
   "codemirror_mode": {
    "name": "ipython",
    "version": 3
   },
   "file_extension": ".py",
   "mimetype": "text/x-python",
   "name": "python",
   "nbconvert_exporter": "python",
   "pygments_lexer": "ipython3",
   "version": "3.6.0"
  }
 },
 "nbformat": 4,
 "nbformat_minor": 2
}
