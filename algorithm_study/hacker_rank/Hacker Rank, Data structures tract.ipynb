{
 "cells": [
  {
   "cell_type": "markdown",
   "metadata": {
    "deletable": true,
    "editable": true
   },
   "source": [
    "# Hacker Rank : Data Structures Track"
   ]
  },
  {
   "cell_type": "markdown",
   "metadata": {
    "deletable": true,
    "editable": true
   },
   "source": [
    "## Arrays-DS\n",
    "Given an array of  integers, print each element in reverse order as a single line of space-separated integers."
   ]
  },
  {
   "cell_type": "code",
   "execution_count": 9,
   "metadata": {
    "collapsed": true,
    "deletable": true,
    "editable": true
   },
   "outputs": [],
   "source": [
    "# Solution: \n",
    "\n",
    "# test data:\n",
    "\n",
    "arr = [1,4,3,2]"
   ]
  },
  {
   "cell_type": "code",
   "execution_count": 36,
   "metadata": {
    "collapsed": true,
    "deletable": true,
    "editable": true
   },
   "outputs": [],
   "source": [
    "def arr_reverser(arr):\n",
    "    n = len(arr)\n",
    "    for i in range(n):\n",
    "        print(arr[n-1-i],\" \", end=\"\")"
   ]
  },
  {
   "cell_type": "markdown",
   "metadata": {
    "deletable": true,
    "editable": true
   },
   "source": [
    "notes: measuring range(5) will give a list 5 elements long. i.e 0-4"
   ]
  },
  {
   "cell_type": "code",
   "execution_count": 37,
   "metadata": {
    "collapsed": false,
    "deletable": true,
    "editable": true
   },
   "outputs": [
    {
     "name": "stdout",
     "output_type": "stream",
     "text": [
      "2  3  4  1  "
     ]
    }
   ],
   "source": [
    "arr_reverser(arr)"
   ]
  },
  {
   "cell_type": "markdown",
   "metadata": {
    "collapsed": true,
    "deletable": true,
    "editable": true
   },
   "source": [
    "## 2D Array - DS\n",
    "Task: https://www.hackerrank.com/challenges/2d-array\n",
    "\n",
    "\n",
    "Calculate the hourglass sum for every hourglass in A, then print the maximum hourglass sum.\n",
    "\n"
   ]
  },
  {
   "cell_type": "code",
   "execution_count": 17,
   "metadata": {
    "collapsed": true,
    "deletable": true,
    "editable": true
   },
   "outputs": [],
   "source": [
    "# input \n",
    "arr = [\n",
    "[1, 1, 1, 0, 0, 0],\n",
    "[0, 1, 0, 0, 0, 0],\n",
    "[1, 1, 1, 0, 0, 0],\n",
    "[0, 0, 2, 4, 4, 0],\n",
    "[0, 0, 0, 2, 0, 0],\n",
    "[0, 0, 1, 2, 4, 0]\n",
    "]\n"
   ]
  },
  {
   "cell_type": "code",
   "execution_count": 28,
   "metadata": {
    "collapsed": false,
    "deletable": true,
    "editable": true
   },
   "outputs": [],
   "source": [
    "\n",
    "arr2 = [\n",
    "[0, -4, -6, 0, -7, -6],\n",
    "[-1, -2, -6, -8, -3, -1],\n",
    "[-8, -4, -2, -8, -8, -6],\n",
    "[-3, -1, -2, -5, -7, -4],\n",
    "[-3, -5, -3, -6, -6, -6],\n",
    "[-3, -6, 0, -8, -6, -7]\n",
    "]"
   ]
  },
  {
   "cell_type": "code",
   "execution_count": 24,
   "metadata": {
    "collapsed": false,
    "deletable": true,
    "editable": true
   },
   "outputs": [
    {
     "data": {
      "text/plain": [
       "[0, 1, 2, 3]"
      ]
     },
     "execution_count": 24,
     "metadata": {},
     "output_type": "execute_result"
    }
   ],
   "source": [
    "[i for i in range(len(arr) -2)]\n",
    "# len(arr[1])\n",
    "# j=0\n",
    "# i=0\n",
    "# arr[i][(j+4)]\n"
   ]
  },
  {
   "cell_type": "code",
   "execution_count": 34,
   "metadata": {
    "collapsed": false,
    "deletable": true,
    "editable": true
   },
   "outputs": [],
   "source": [
    "def largest_hourglass(arr):\n",
    "    \n",
    "    # can assume n by n matrix\n",
    "    n = len(arr)\n",
    "    \n",
    "    max_so_far = None\n",
    "    \n",
    "    if n < 3:\n",
    "        return None \n",
    "    \n",
    "    # subtract 2 for bottom of hourglass\n",
    "    for i in range(n - 2):\n",
    "        for j in range(n - 2):\n",
    "            # +3 because slicing doesn't include endpoint \n",
    "            sums = sum(arr[i][j:(j+3)]) + arr[i+1][j+1] + sum(arr[i+2][j:(j+3)])\n",
    "            \n",
    "            # compare against max sum\n",
    "            if max_so_far is None:\n",
    "                max_so_far = sums\n",
    "                \n",
    "            else:    \n",
    "                max_so_far = max(sums, max_so_far)\n",
    "            \n",
    "    return max_so_far\n",
    "    \n"
   ]
  },
  {
   "cell_type": "code",
   "execution_count": 35,
   "metadata": {
    "collapsed": false,
    "deletable": true,
    "editable": true
   },
   "outputs": [
    {
     "data": {
      "text/plain": [
       "19"
      ]
     },
     "execution_count": 35,
     "metadata": {},
     "output_type": "execute_result"
    }
   ],
   "source": [
    "largest_hourglass(arr)"
   ]
  },
  {
   "cell_type": "code",
   "execution_count": 36,
   "metadata": {
    "collapsed": false,
    "deletable": true,
    "editable": true
   },
   "outputs": [
    {
     "data": {
      "text/plain": [
       "-19"
      ]
     },
     "execution_count": 36,
     "metadata": {},
     "output_type": "execute_result"
    }
   ],
   "source": [
    "largest_hourglass(arr2)"
   ]
  },
  {
   "cell_type": "markdown",
   "metadata": {
    "collapsed": true,
    "deletable": true,
    "editable": true
   },
   "source": [
    "## left Rotation"
   ]
  },
  {
   "cell_type": "code",
   "execution_count": 1,
   "metadata": {
    "collapsed": true,
    "deletable": true,
    "editable": true
   },
   "outputs": [],
   "source": [
    "num = 5 \n",
    "rot = 4\n",
    "arr = [1, 2, 3, 4, 5]"
   ]
  },
  {
   "cell_type": "code",
   "execution_count": 11,
   "metadata": {
    "collapsed": false,
    "deletable": true,
    "editable": true
   },
   "outputs": [
    {
     "name": "stdout",
     "output_type": "stream",
     "text": [
      "5 1 2 3 4\n"
     ]
    }
   ],
   "source": [
    "rot_arr = [None]*num\n",
    "\n",
    "for i, elem in enumerate(arr):\n",
    "   \n",
    "    rot_arr[(i-rot)%(num)] = elem \n",
    "\n",
    "\n",
    "\n",
    "print(*rot_arr)"
   ]
  },
  {
   "cell_type": "code",
   "execution_count": 4,
   "metadata": {
    "collapsed": true,
    "deletable": true,
    "editable": true
   },
   "outputs": [],
   "source": [
    "newarr = []\n",
    "\n",
    "\n"
   ]
  },
  {
   "cell_type": "code",
   "execution_count": 6,
   "metadata": {
    "collapsed": false,
    "deletable": true,
    "editable": true
   },
   "outputs": [],
   "source": [
    "newarr = [5]"
   ]
  },
  {
   "cell_type": "code",
   "execution_count": 7,
   "metadata": {
    "collapsed": false,
    "deletable": true,
    "editable": true
   },
   "outputs": [
    {
     "data": {
      "text/plain": [
       "[5]"
      ]
     },
     "execution_count": 7,
     "metadata": {},
     "output_type": "execute_result"
    }
   ],
   "source": [
    "newarr"
   ]
  },
  {
   "cell_type": "markdown",
   "metadata": {
    "collapsed": true,
    "deletable": true,
    "editable": true
   },
   "source": [
    "## Sparse Array"
   ]
  },
  {
   "cell_type": "code",
   "execution_count": null,
   "metadata": {
    "collapsed": true,
    "deletable": true,
    "editable": true
   },
   "outputs": [],
   "source": [
    "\n",
    "n = int(input()) \n",
    "\n",
    "stor = {}\n",
    "\n",
    "# store in the inputs in a hashmap\n",
    "for i in range(n):\n",
    "    \n",
    "    s = input().strip()\n",
    "    \n",
    "    if s in stor:\n",
    "        stor[s] += 1\n",
    "    else:\n",
    "        stor[s] = 1\n",
    " \n",
    "n_q = int(input())\n",
    "\n",
    "for i in range(n_q):\n",
    "    \n",
    "    s_q = input().strip()\n",
    "    \n",
    "    if s_q in stor:\n",
    "        print(stor[s_q])\n",
    "        \n",
    "    else:\n",
    "        print(0)\n"
   ]
  }
 ],
 "metadata": {
  "kernelspec": {
   "display_name": "Python 3",
   "language": "python",
   "name": "python3"
  },
  "language_info": {
   "codemirror_mode": {
    "name": "ipython",
    "version": 3
   },
   "file_extension": ".py",
   "mimetype": "text/x-python",
   "name": "python",
   "nbconvert_exporter": "python",
   "pygments_lexer": "ipython3",
   "version": "3.6.0"
  }
 },
 "nbformat": 4,
 "nbformat_minor": 2
}
