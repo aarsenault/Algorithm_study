{
 "cells": [
  {
   "cell_type": "markdown",
   "metadata": {},
   "source": [
    "# Binary Gap "
   ]
  },
  {
   "cell_type": "code",
   "execution_count": 13,
   "metadata": {
    "collapsed": true
   },
   "outputs": [],
   "source": [
    "def solution(N):\n",
    "\n",
    "    # write your code in Python 2.7  \n",
    "    # convert int into bin string \n",
    "    \n",
    "    bin_string = bin(N)[2:]  \n",
    "    \n",
    "    cur_gap = 0\n",
    "    max_gap = 0 \n",
    "    \n",
    "    for char in bin_string:\n",
    "        \n",
    "        if (char == '0'):\n",
    "            cur_gap += 1\n",
    "        \n",
    "        elif (char == '1'):\n",
    "            if cur_gap > max_gap:\n",
    "                max_gap = cur_gap\n",
    "            cur_gap = 0\n",
    "                \n",
    "    return max_gap "
   ]
  },
  {
   "cell_type": "markdown",
   "metadata": {},
   "source": [
    "# factoring "
   ]
  },
  {
   "cell_type": "code",
   "execution_count": 1,
   "metadata": {
    "collapsed": true
   },
   "outputs": [],
   "source": [
    "def solution_2(N):\n",
    "    # write your code in Python 2.7\n",
    "    \n",
    "    if N == 1:\n",
    "        return 1\n",
    "    \n",
    "    else:\n",
    "        factors = [1, N] \n",
    "    \n",
    "    \n",
    "    \n",
    "    sN = N**(0.5)\n",
    "    \n",
    "    n = 2\n",
    "    while n <= sN:\n",
    "        \n",
    "        div = N/n\n",
    "        \n",
    "        if div%1 == 0:\n",
    "            factors.append(n)\n",
    "            \n",
    "            # make sure we don't double add square values \n",
    "            if n != div:\n",
    "                factors.append(div)\n",
    "        \n",
    "        n += 1\n",
    "     \n",
    "    # print(factors)\n",
    "    return len(factors)\n",
    "\n",
    "        \n",
    "            \n",
    "        \n",
    "        \n",
    "        \n",
    "    "
   ]
  }
 ],
 "metadata": {
  "kernelspec": {
   "display_name": "Python 3",
   "language": "python",
   "name": "python3"
  },
  "language_info": {
   "codemirror_mode": {
    "name": "ipython",
    "version": 3
   },
   "file_extension": ".py",
   "mimetype": "text/x-python",
   "name": "python",
   "nbconvert_exporter": "python",
   "pygments_lexer": "ipython3",
   "version": "3.6.0"
  }
 },
 "nbformat": 4,
 "nbformat_minor": 2
}
